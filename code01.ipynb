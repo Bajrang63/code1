{
 "cells": [
  {
   "cell_type": "code",
   "execution_count": 1,
   "id": "cb2d5898-00d3-4978-bc0d-ad98c12408fe",
   "metadata": {},
   "outputs": [],
   "source": [
    "#write the program to declare of two variables and swap without using temperay variables\n",
    "v1=9\n",
    "v2=5"
   ]
  },
  {
   "cell_type": "code",
   "execution_count": 2,
   "id": "bc349008-068f-4f70-a323-dccf652a130e",
   "metadata": {},
   "outputs": [],
   "source": [
    "v1,v2=v2,v1"
   ]
  },
  {
   "cell_type": "code",
   "execution_count": 3,
   "id": "b4f8b5bd-8430-4e94-9f7d-e8f724b9c11b",
   "metadata": {},
   "outputs": [
    {
     "data": {
      "text/plain": [
       "5"
      ]
     },
     "execution_count": 3,
     "metadata": {},
     "output_type": "execute_result"
    }
   ],
   "source": [
    "v1"
   ]
  },
  {
   "cell_type": "code",
   "execution_count": 4,
   "id": "9d4d2d60-abbe-4c7b-9f00-2d9f0ea1f4b6",
   "metadata": {},
   "outputs": [
    {
     "data": {
      "text/plain": [
       "9"
      ]
     },
     "execution_count": 4,
     "metadata": {},
     "output_type": "execute_result"
    }
   ],
   "source": [
    "v2\n"
   ]
  },
  {
   "cell_type": "code",
   "execution_count": 5,
   "id": "dbc28f12-720c-4094-8a2e-24dfbf8eea63",
   "metadata": {},
   "outputs": [
    {
     "name": "stdin",
     "output_type": "stream",
     "text": [
      "Enter the length of rectangle 12\n"
     ]
    }
   ],
   "source": [
    "#write a program to create area of rectangles\n",
    "l=float(input(\"Enter the length of rectangle\"))"
   ]
  },
  {
   "cell_type": "code",
   "execution_count": 7,
   "id": "4db5cd88-d156-480e-9033-a347f4e1a228",
   "metadata": {},
   "outputs": [
    {
     "name": "stdin",
     "output_type": "stream",
     "text": [
      "Enter the breadth if rectangle 2\n"
     ]
    }
   ],
   "source": [
    "b=float(input(\"Enter the breadth if rectangle\"))\n"
   ]
  },
  {
   "cell_type": "code",
   "execution_count": 8,
   "id": "4da54d85-25a7-4835-8d76-79cd864dcea4",
   "metadata": {},
   "outputs": [
    {
     "name": "stdout",
     "output_type": "stream",
     "text": [
      "Area of rectangle 24.0\n"
     ]
    }
   ],
   "source": [
    "#formula of area of rectangle length*breadth\n",
    "Area=l*b\n",
    "print(\"Area of rectangle\",Area)"
   ]
  },
  {
   "cell_type": "code",
   "execution_count": 9,
   "id": "4b3918a3-739e-4c7d-a767-4b42f60148c6",
   "metadata": {},
   "outputs": [
    {
     "name": "stdin",
     "output_type": "stream",
     "text": [
      "Enter the celsius in temperature  37\n"
     ]
    }
   ],
   "source": [
    "#Write a Python program that converts temperatures from Celsius to Fahrenheit\n",
    "celsius=float(input(\"Enter the celsius in temperature \"))"
   ]
  },
  {
   "cell_type": "code",
   "execution_count": 10,
   "id": "8d9a4507-3536-4006-85d1-478b1a47efa9",
   "metadata": {},
   "outputs": [],
   "source": [
    "fahrenheit= (celsius * 9/5) + 32"
   ]
  },
  {
   "cell_type": "code",
   "execution_count": 11,
   "id": "47fe688b-ba97-4969-b878-0eb203a7e5a9",
   "metadata": {},
   "outputs": [
    {
     "data": {
      "text/plain": [
       "98.6"
      ]
     },
     "execution_count": 11,
     "metadata": {},
     "output_type": "execute_result"
    }
   ],
   "source": [
    "fahrenheit"
   ]
  },
  {
   "cell_type": "code",
   "execution_count": 12,
   "id": "a9d63500-de63-40c8-9e7e-9f5dc8144b71",
   "metadata": {},
   "outputs": [],
   "source": [
    "#write a program to print string and measure length too"
   ]
  },
  {
   "cell_type": "code",
   "execution_count": 13,
   "id": "7cec0373-46a5-4950-9e92-5f47238437e5",
   "metadata": {},
   "outputs": [],
   "source": [
    "s1=\"bajrang\""
   ]
  },
  {
   "cell_type": "code",
   "execution_count": 14,
   "id": "0aa4858c-c22b-49f5-865f-7b7c4603c3fe",
   "metadata": {},
   "outputs": [
    {
     "data": {
      "text/plain": [
       "'bajrang'"
      ]
     },
     "execution_count": 14,
     "metadata": {},
     "output_type": "execute_result"
    }
   ],
   "source": [
    "s1"
   ]
  },
  {
   "cell_type": "code",
   "execution_count": 15,
   "id": "2c6fdec0-708a-4295-89b7-1d2bb88ed652",
   "metadata": {},
   "outputs": [
    {
     "data": {
      "text/plain": [
       "7"
      ]
     },
     "execution_count": 15,
     "metadata": {},
     "output_type": "execute_result"
    }
   ],
   "source": [
    "len(s1)"
   ]
  },
  {
   "cell_type": "code",
   "execution_count": 20,
   "id": "7490b06a-0daa-4d95-a4e9-87f1cb4a32e0",
   "metadata": {},
   "outputs": [],
   "source": [
    "# Python code to count and display number of vowels\n",
    "# Simply using for and comparing it with a \n",
    "# string containing all vowels\n",
    "def Vowel(string, vowels):\n",
    "    final = [each for each in string if each in vowels]\n",
    "    print(len(final))\n",
    "    print(final)\n",
    "    "
   ]
  },
  {
   "cell_type": "code",
   "execution_count": 21,
   "id": "bb1a2964-298a-4330-9ff3-7f0a4fec582f",
   "metadata": {},
   "outputs": [
    {
     "name": "stdout",
     "output_type": "stream",
     "text": [
      "10\n",
      "['i', 'a', 'e', 'a', 'i', 'o', 'a', 'u', 'a', 'e']\n"
     ]
    }
   ],
   "source": [
    "string = \"i am learning python language \"\n",
    "vowels = \"a,e,i,o,u\"\n",
    "Vowel(string, vowels);"
   ]
  },
  {
   "cell_type": "code",
   "execution_count": null,
   "id": "232fbb79-f051-4e17-973e-864ca90da2a4",
   "metadata": {},
   "outputs": [],
   "source": [
    "#reverse the order of characters using string slicing \n",
    "#print the string in reversal order"
   ]
  },
  {
   "cell_type": "code",
   "execution_count": 22,
   "id": "7f7390b4-745c-4426-8b7a-e3eec90e405f",
   "metadata": {},
   "outputs": [],
   "source": [
    "s2=\"nitin\""
   ]
  },
  {
   "cell_type": "code",
   "execution_count": 23,
   "id": "0b06c4ca-018b-4fb2-ac75-9b29f76b9c6d",
   "metadata": {},
   "outputs": [
    {
     "data": {
      "text/plain": [
       "'nitin'"
      ]
     },
     "execution_count": 23,
     "metadata": {},
     "output_type": "execute_result"
    }
   ],
   "source": [
    "s2"
   ]
  },
  {
   "cell_type": "code",
   "execution_count": 27,
   "id": "d61bf4e3-d16e-4c32-b597-16c7684d7e74",
   "metadata": {},
   "outputs": [
    {
     "data": {
      "text/plain": [
       "'nitin'"
      ]
     },
     "execution_count": 27,
     "metadata": {},
     "output_type": "execute_result"
    }
   ],
   "source": [
    "s2[::-1]  #print the string in reversal order"
   ]
  },
  {
   "cell_type": "code",
   "execution_count": 31,
   "id": "ff6eb7d9-3263-4795-8860-b52153e7e66a",
   "metadata": {},
   "outputs": [
    {
     "name": "stdout",
     "output_type": "stream",
     "text": [
      "Yes\n"
     ]
    }
   ],
   "source": [
    "#decode Run a loop from starting to length/2 and check \n",
    "#the first character to the last character of the string and second to second last \n",
    "ans = (s2)\n",
    " \n",
    "if ans:\n",
    "    print(\"Yes\")\n",
    "else:\n",
    "    print(\"No\")"
   ]
  },
  {
   "cell_type": "code",
   "execution_count": 37,
   "id": "37e90643-1b86-4161-8ab9-3352d142b9c5",
   "metadata": {},
   "outputs": [],
   "source": [
    "# Python program to Remove spaces from a given string "
   ]
  },
  {
   "cell_type": "code",
   "execution_count": 38,
   "id": "c75921e6-bc4d-497c-a04e-bb267f8303ba",
   "metadata": {},
   "outputs": [
    {
     "name": "stdout",
     "output_type": "stream",
     "text": [
      "bajrangdahale\n"
     ]
    }
   ],
   "source": [
    "string = \"b a j r a n g d a h a l e\"\n",
    "string = s.replace(\" \", \"\")\n",
    "print(string)\n"
   ]
  },
  {
   "cell_type": "code",
   "execution_count": null,
   "id": "9b456678-90b2-4854-908d-91e143bd03d0",
   "metadata": {},
   "outputs": [],
   "source": []
  },
  {
   "cell_type": "code",
   "execution_count": null,
   "id": "6d9bef6e-af52-45a8-b2f1-00867c76b6cb",
   "metadata": {},
   "outputs": [],
   "source": []
  },
  {
   "cell_type": "code",
   "execution_count": null,
   "id": "5058eeea-7cea-4915-8176-d8ad77e76956",
   "metadata": {},
   "outputs": [],
   "source": []
  },
  {
   "cell_type": "code",
   "execution_count": null,
   "id": "c81d3ef9-a5cb-48e0-b723-e929a9b9b878",
   "metadata": {},
   "outputs": [],
   "source": []
  },
  {
   "cell_type": "code",
   "execution_count": null,
   "id": "64e94538-8a0f-49b1-bef5-bde62490313c",
   "metadata": {},
   "outputs": [],
   "source": []
  },
  {
   "cell_type": "code",
   "execution_count": null,
   "id": "64523322-b811-4134-95d1-f0b7903344f1",
   "metadata": {},
   "outputs": [],
   "source": []
  },
  {
   "cell_type": "code",
   "execution_count": null,
   "id": "a35162ba-4749-4fb2-95b9-b04ef409c2c2",
   "metadata": {},
   "outputs": [],
   "source": []
  }
 ],
 "metadata": {
  "kernelspec": {
   "display_name": "Python 3 (ipykernel)",
   "language": "python",
   "name": "python3"
  },
  "language_info": {
   "codemirror_mode": {
    "name": "ipython",
    "version": 3
   },
   "file_extension": ".py",
   "mimetype": "text/x-python",
   "name": "python",
   "nbconvert_exporter": "python",
   "pygments_lexer": "ipython3",
   "version": "3.10.8"
  }
 },
 "nbformat": 4,
 "nbformat_minor": 5
}
